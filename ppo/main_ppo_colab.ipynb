{
  "nbformat": 4,
  "nbformat_minor": 0,
  "metadata": {
    "colab": {
      "name": "main_ppo_colab.ipynb",
      "provenance": [],
      "collapsed_sections": []
    },
    "kernelspec": {
      "display_name": "Python 3",
      "name": "python3"
    },
    "language_info": {
      "name": "python"
    },
    "accelerator": "GPU"
  },
  "cells": [
    {
      "cell_type": "code",
      "metadata": {
        "colab": {
          "base_uri": "https://localhost:8080/"
        },
        "id": "zoxPSSQHd-zu",
        "outputId": "2dbae1ef-120c-4fd9-8c61-deb5d082cf8e"
      },
      "source": [
        "from google.colab import drive\n",
        "drive.mount('/content/drive')"
      ],
      "execution_count": 1,
      "outputs": [
        {
          "output_type": "stream",
          "name": "stdout",
          "text": [
            "Mounted at /content/drive\n"
          ]
        }
      ]
    },
    {
      "cell_type": "code",
      "metadata": {
        "colab": {
          "base_uri": "https://localhost:8080/"
        },
        "id": "OE9pHH2j4n17",
        "outputId": "d6e82b21-66f0-4fd5-e880-95b32ec885b1"
      },
      "source": [
        "cd /content/drive/MyDrive/"
      ],
      "execution_count": 2,
      "outputs": [
        {
          "output_type": "stream",
          "name": "stdout",
          "text": [
            "/content/drive/MyDrive\n"
          ]
        }
      ]
    },
    {
      "cell_type": "code",
      "metadata": {
        "colab": {
          "base_uri": "https://localhost:8080/"
        },
        "id": "wTD-shXXT_QR",
        "outputId": "e7041de2-ada9-40f3-ba3a-bfff78aaa9be"
      },
      "source": [
        "!git clone https://github.com/ikostrikov/pytorch-a2c-ppo-acktr-gail.git"
      ],
      "execution_count": 3,
      "outputs": [
        {
          "output_type": "stream",
          "name": "stdout",
          "text": [
            "Cloning into 'pytorch-a2c-ppo-acktr-gail'...\n",
            "remote: Enumerating objects: 1171, done.\u001b[K\n",
            "remote: Counting objects: 100% (4/4), done.\u001b[K\n",
            "remote: Compressing objects: 100% (4/4), done.\u001b[K\n",
            "remote: Total 1171 (delta 0), reused 3 (delta 0), pack-reused 1167\u001b[K\n",
            "Receiving objects: 100% (1171/1171), 6.05 MiB | 9.08 MiB/s, done.\n",
            "Resolving deltas: 100% (596/596), done.\n",
            "Checking out files: 100% (157/157), done.\n"
          ]
        }
      ]
    },
    {
      "cell_type": "code",
      "metadata": {
        "colab": {
          "base_uri": "https://localhost:8080/"
        },
        "id": "Ep48fvCfUFiS",
        "outputId": "5c689171-5673-42b3-e737-0c9fe98a4065"
      },
      "source": [
        "cd pytorch-a2c-ppo-acktr-gail"
      ],
      "execution_count": 3,
      "outputs": [
        {
          "output_type": "stream",
          "name": "stdout",
          "text": [
            "/content/drive/MyDrive/pytorch-a2c-ppo-acktr-gail\n"
          ]
        }
      ]
    },
    {
      "cell_type": "code",
      "metadata": {
        "colab": {
          "base_uri": "https://localhost:8080/"
        },
        "id": "0y36iyVJsuUd",
        "outputId": "c065f2f4-6790-4991-a1c9-2e73e326ae24"
      },
      "source": [
        "# python should >=3.7 !!!!!!!!!!!!!!!!!!!!!!!!!!!!!!!!!!!!!!!!\n",
        "!pip3 install atari-py\n",
        "!pip3 install opencv-python  \n",
        "!pip install -r requirements.txt"
      ],
      "execution_count": 4,
      "outputs": [
        {
          "output_type": "stream",
          "name": "stdout",
          "text": [
            "Requirement already satisfied: atari-py in /usr/local/lib/python3.7/dist-packages (0.2.9)\n",
            "Requirement already satisfied: six in /usr/local/lib/python3.7/dist-packages (from atari-py) (1.15.0)\n",
            "Requirement already satisfied: numpy in /usr/local/lib/python3.7/dist-packages (from atari-py) (1.19.5)\n",
            "Requirement already satisfied: opencv-python in /usr/local/lib/python3.7/dist-packages (4.1.2.30)\n",
            "Requirement already satisfied: numpy>=1.14.5 in /usr/local/lib/python3.7/dist-packages (from opencv-python) (1.19.5)\n"
          ]
        }
      ]
    },
    {
      "cell_type": "code",
      "metadata": {
        "id": "CQaFq9p9YTvj"
      },
      "source": [
        "! wget http://www.atarimania.com/roms/Roms.rar\n",
        "! mkdir ./ROM/\n",
        "! unrar e ./Roms.rar ./ROM/\n",
        "! python -m atari_py.import_roms ./ROM/"
      ],
      "execution_count": null,
      "outputs": []
    },
    {
      "cell_type": "code",
      "metadata": {
        "colab": {
          "base_uri": "https://localhost:8080/"
        },
        "id": "qB9hm-EpUFqD",
        "outputId": "15c9fb06-fb0c-4eea-df1a-15695c79b648"
      },
      "source": [
        "# reset processes = 1\n",
        "!python main.py --env-name \"PongNoFrameskip-v4\" --algo ppo --use-gae --lr 2.5e-4 --clip-param 0.1 --value-loss-coef 0.5 --num-processes 1 --num-steps 128 --num-mini-batch 4 --log-interval 50 --use-linear-lr-decay --entropy-coef 0.01"
      ],
      "execution_count": 9,
      "outputs": [
        {
          "output_type": "stream",
          "name": "stdout",
          "text": [
            "Updates 50, num timesteps 6528, FPS 182 \n",
            " Last 7 training episodes: mean/median reward -20.1/-21.0, min/max reward -21.0/-17.0\n",
            "\n",
            "Updates 100, num timesteps 12928, FPS 181 \n",
            " Last 10 training episodes: mean/median reward -20.5/-21.0, min/max reward -21.0/-19.0\n",
            "\n",
            "Updates 150, num timesteps 19328, FPS 180 \n",
            " Last 10 training episodes: mean/median reward -20.9/-21.0, min/max reward -21.0/-20.0\n",
            "\n",
            "Updates 200, num timesteps 25728, FPS 180 \n",
            " Last 10 training episodes: mean/median reward -20.6/-21.0, min/max reward -21.0/-20.0\n",
            "\n",
            "Updates 250, num timesteps 32128, FPS 181 \n",
            " Last 10 training episodes: mean/median reward -20.7/-21.0, min/max reward -21.0/-20.0\n",
            "\n",
            "Updates 300, num timesteps 38528, FPS 181 \n",
            " Last 10 training episodes: mean/median reward -20.4/-20.5, min/max reward -21.0/-19.0\n",
            "\n",
            "Updates 350, num timesteps 44928, FPS 181 \n",
            " Last 10 training episodes: mean/median reward -20.5/-20.5, min/max reward -21.0/-20.0\n",
            "\n",
            "Updates 400, num timesteps 51328, FPS 181 \n",
            " Last 10 training episodes: mean/median reward -20.5/-20.5, min/max reward -21.0/-20.0\n",
            "\n",
            "Traceback (most recent call last):\n",
            "  File \"main.py\", line 198, in <module>\n",
            "  File \"main.py\", line 121, in main\n",
            "    obs, reward, done, infos = envs.step(action)\n",
            "  File \"/usr/local/lib/python3.7/dist-packages/stable_baselines3/common/vec_env/base_vec_env.py\", line 162, in step\n",
            "    return self.step_wait()\n",
            "  File \"/content/drive/My Drive/pytorch-a2c-ppo-acktr-gail/a2c_ppo_acktr/envs.py\", line 242, in step_wait\n",
            "    self.stacked_obs[:, self.shape_dim0:].clone()\n",
            "KeyboardInterrupt\n"
          ]
        }
      ]
    },
    {
      "cell_type": "code",
      "metadata": {
        "id": "NSm-qbfIp-nU"
      },
      "source": [
        "# this works in my local pc,  google colab doesn't support X11\n",
        "#!python enjoy.py --load-dir trained_models/ppo --env-name \"PongNoFrameskip-v4\""
      ],
      "execution_count": null,
      "outputs": []
    }
  ]
}